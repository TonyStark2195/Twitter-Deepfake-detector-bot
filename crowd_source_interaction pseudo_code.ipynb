{
 "cells": [
  {
   "cell_type": "code",
   "execution_count": null,
   "metadata": {},
   "outputs": [],
   "source": [
    "import urllib.request\n",
    "import os\n",
    "import re\n",
    "import logging\n",
    "from config import create_api\n",
    "import tweepy\n",
    "import time\n",
    "import requests"
   ]
  },
  {
   "cell_type": "markdown",
   "metadata": {},
   "source": [
    "# Pseudocode"
   ]
  },
  {
   "cell_type": "raw",
   "metadata": {},
   "source": [
    "auth_token = \"__________\"\n",
    "create a task suite\n",
    "connect to the task -> \"https://sandbox.toloka.yandex.com/api/v1/<the path to the resource>\"\n",
    "\n",
    "def toloka_interact(video, video_link):\n",
    "    POST the video link in a json through the toloka API\n",
    "    GET the workers will look at the video, download them and send a detailed response back in json format\n",
    "    SAVE the response to the database\n",
    "    EXTRACT the text and respond it to the same tweet source the bot was tagged\n",
    "    DELETE the video and link from the local directory\n",
    "    \n",
    "    RETURN json_response"
   ]
  },
  {
   "cell_type": "raw",
   "metadata": {},
   "source": [
    "WHILE TRUE:\n",
    "    LOOK for video, and the link in the local folder (saved from tweet, separate folder for human module)\n",
    "    IF exists:\n",
    "        CALL toloka_interact(video, video_link) method\n",
    "        response = return from the function call\n",
    "        \n",
    "        TWEEPY API UPDATE STATUS (response, tweet_id)"
   ]
  }
 ],
 "metadata": {
  "colab": {
   "name": "Assignment 4",
   "provenance": []
  },
  "kernelspec": {
   "display_name": "Python 3",
   "language": "python",
   "name": "python3"
  },
  "language_info": {
   "codemirror_mode": {
    "name": "ipython",
    "version": 3
   },
   "file_extension": ".py",
   "mimetype": "text/x-python",
   "name": "python",
   "nbconvert_exporter": "python",
   "pygments_lexer": "ipython3",
   "version": "3.7.9"
  }
 },
 "nbformat": 4,
 "nbformat_minor": 1
}
